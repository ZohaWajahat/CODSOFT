{
 "cells": [
  {
   "cell_type": "code",
   "execution_count": 1,
   "id": "ce744afa",
   "metadata": {},
   "outputs": [
    {
     "name": "stdout",
     "output_type": "stream",
     "text": [
      "Enter the first number: 12\n",
      "Enter the second number: 12\n",
      "Enter the operator to perform any operation: *\n",
      "12.0 * 12.0 = 144.0\n"
     ]
    }
   ],
   "source": [
    "num1=float(input(\"Enter the first number: \"))\n",
    "num2=float(input(\"Enter the second number: \"))\n",
    "operator=input(\"Enter the operator to perform any operation: \")\n",
    "if operator=='+':\n",
    "    print(num1, end=\"\")\n",
    "    print(\" + \", end=\"\")\n",
    "    print(num2, end=\"\")\n",
    "    print(\" = \", end=\"\")\n",
    "    print(num1+num2)\n",
    "elif operator=='-':\n",
    "    print(num1, end=\"\")\n",
    "    print(\" - \", end=\"\")\n",
    "    print(num2, end=\"\")\n",
    "    print(\" = \", end=\"\")\n",
    "    print(num1-num2)\n",
    "elif operator=='*':\n",
    "    print(num1, end=\"\")\n",
    "    print(\" * \", end=\"\")\n",
    "    print(num2, end=\"\")\n",
    "    print(\" = \", end=\"\")\n",
    "    print(num1*num2)\n",
    "elif operator=='/':\n",
    "    print(num1, end=\"\")\n",
    "    print(\" / \", end=\"\")\n",
    "    print(num2, end=\"\")\n",
    "    print(\" = \", end=\"\")\n",
    "    print(num1/num2)\n",
    "elif operator=='**':\n",
    "    print(num1, end=\"\")\n",
    "    print(\" ** \", end=\"\")\n",
    "    print(num2, end=\"\")\n",
    "    print(\" = \", end=\"\")\n",
    "    print(num1**num2)\n",
    "else:\n",
    "    print(\"Invalid Operator\")"
   ]
  },
  {
   "cell_type": "code",
   "execution_count": null,
   "id": "043574ad",
   "metadata": {},
   "outputs": [],
   "source": []
  }
 ],
 "metadata": {
  "kernelspec": {
   "display_name": "Python 3 (ipykernel)",
   "language": "python",
   "name": "python3"
  },
  "language_info": {
   "codemirror_mode": {
    "name": "ipython",
    "version": 3
   },
   "file_extension": ".py",
   "mimetype": "text/x-python",
   "name": "python",
   "nbconvert_exporter": "python",
   "pygments_lexer": "ipython3",
   "version": "3.11.5"
  }
 },
 "nbformat": 4,
 "nbformat_minor": 5
}
