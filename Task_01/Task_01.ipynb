{
 "cells": [
  {
   "cell_type": "code",
   "execution_count": 4,
   "id": "0e779296",
   "metadata": {},
   "outputs": [],
   "source": [
    "from tkinter import Tk, Label, Entry, Button, Listbox, Scrollbar\n",
    "\n",
    "def add_task():\n",
    "    new_task = task_entry.get()\n",
    "    if new_task:\n",
    "        tasks.append(new_task)\n",
    "        task_entry.delete(0, 'end')\n",
    "        update_task_list()\n",
    "\n",
    "def delete_task():\n",
    "    selected_index = task_list.curselection()\n",
    "    if selected_index:\n",
    "        task_to_delete = tasks[selected_index[0]]\n",
    "        tasks.pop(selected_index[0])\n",
    "        task_list.delete(selected_index)\n",
    "        update_task_list()\n",
    "\n",
    "def update_task_list():\n",
    "    task_list.delete(0, 'end')\n",
    "    for task in tasks:\n",
    "        task_list.insert('end', task)\n",
    "\n",
    "# Initialize Tkinter\n",
    "root = Tk()\n",
    "root.title(\"To-Do List\")\n",
    "\n",
    "# Create task entry box\n",
    "task_entry = Entry(root, width=50)\n",
    "task_entry.pack()\n",
    "\n",
    "# Create add task button\n",
    "add_button = Button(root, text=\"Add Task\", command=add_task)\n",
    "add_button.pack()\n",
    "\n",
    "# Create task list and scrollbar\n",
    "task_list = Listbox(root, height=10, width=50)\n",
    "scrollbar = Scrollbar(root, command=task_list.yview)  # Connect scrollbar to task_list\n",
    "task_list.configure(yscrollcommand=scrollbar.set)  # Set task_list's yscrollcommand to scrollbar.set\n",
    "scrollbar.pack(side='right', fill='y')\n",
    "task_list.pack(side='left', fill='both', expand=True)\n",
    "\n",
    "\n",
    "# Create delete task button\n",
    "delete_button = Button(root, text=\"Delete Task\", command=delete_task)\n",
    "delete_button.pack()\n",
    "\n",
    "# Initialize task list\n",
    "tasks = []\n",
    "\n",
    "# Start the main loop\n",
    "root.mainloop()\n"
   ]
  },
  {
   "cell_type": "code",
   "execution_count": null,
   "id": "86a8c2cc",
   "metadata": {},
   "outputs": [],
   "source": []
  }
 ],
 "metadata": {
  "kernelspec": {
   "display_name": "Python 3 (ipykernel)",
   "language": "python",
   "name": "python3"
  },
  "language_info": {
   "codemirror_mode": {
    "name": "ipython",
    "version": 3
   },
   "file_extension": ".py",
   "mimetype": "text/x-python",
   "name": "python",
   "nbconvert_exporter": "python",
   "pygments_lexer": "ipython3",
   "version": "3.11.5"
  }
 },
 "nbformat": 4,
 "nbformat_minor": 5
}
