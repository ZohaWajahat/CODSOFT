{
 "cells": [
  {
   "cell_type": "code",
   "execution_count": 2,
   "id": "61fcaa22",
   "metadata": {},
   "outputs": [
    {
     "name": "stdout",
     "output_type": "stream",
     "text": [
      "rock, paper, or scissors?: t[\n",
      "rock, paper, or scissors?: rock\n",
      "computer:  paper\n",
      "player:  rock\n",
      "You lose!\n",
      "Play again? (yes/no): no\n",
      "Bye!\n"
     ]
    }
   ],
   "source": [
    "import random\n",
    "while True:\n",
    "    choices=[\"rock\",\"paper\",\"scissors\"]\n",
    "    computer=random.choice(choices)\n",
    "    player=None\n",
    "    while player not in choices:\n",
    "        player=input(\"rock, paper, or scissors?: \").lower()\n",
    "    if player==computer:\n",
    "        print(\"computer: \", computer)\n",
    "        print(\"player: \", player)\n",
    "        print(\"Tie!\")\n",
    "    elif player==\"rock\":\n",
    "        if computer==\"paper\":\n",
    "            print(\"computer: \", computer)\n",
    "            print(\"player: \", player)\n",
    "            print(\"You lose!\")\n",
    "        if computer==\"scissors\":\n",
    "            print(\"computer: \", computer)\n",
    "            print(\"player: \", player)\n",
    "            print(\"You win!\")\n",
    "    elif player==\"scissors\":\n",
    "        if computer==\"rock\":\n",
    "            print(\"computer: \", computer)\n",
    "            print(\"player: \", player)\n",
    "            print(\"You lose!\")\n",
    "        if computer==\"paper\":\n",
    "            print(\"computer: \", computer)\n",
    "            print(\"player: \", player)\n",
    "            print(\"You win!\")\n",
    "    elif player==\"paper\":\n",
    "        if computer==\"scissors\":\n",
    "            print(\"computer: \", computer)\n",
    "            print(\"player: \", player)\n",
    "            print(\"You lose!\")\n",
    "        if computer==\"rock\":\n",
    "            print(\"computer: \", computer)\n",
    "            print(\"player: \", player)\n",
    "            print(\"You win!\")\n",
    "    play_again=input(\"Play again? (yes/no): \").lower()\n",
    "    if play_again!=\"yes\":\n",
    "        break\n",
    "print(\"Bye!\")"
   ]
  },
  {
   "cell_type": "code",
   "execution_count": null,
   "id": "02337c27",
   "metadata": {},
   "outputs": [],
   "source": []
  }
 ],
 "metadata": {
  "kernelspec": {
   "display_name": "Python 3 (ipykernel)",
   "language": "python",
   "name": "python3"
  },
  "language_info": {
   "codemirror_mode": {
    "name": "ipython",
    "version": 3
   },
   "file_extension": ".py",
   "mimetype": "text/x-python",
   "name": "python",
   "nbconvert_exporter": "python",
   "pygments_lexer": "ipython3",
   "version": "3.11.5"
  }
 },
 "nbformat": 4,
 "nbformat_minor": 5
}
