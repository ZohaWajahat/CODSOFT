{
 "cells": [
  {
   "cell_type": "code",
   "execution_count": 1,
   "id": "19197d31",
   "metadata": {},
   "outputs": [
    {
     "name": "stdout",
     "output_type": "stream",
     "text": [
      "Enter the length for the password: 14\n",
      "The generated password is: <o\\D_eh+qJa,bz\n"
     ]
    }
   ],
   "source": [
    "import random\n",
    "import string\n",
    "import sys\n",
    "length=int(input(\"Enter the length for the password: \"))\n",
    "if length<=0:\n",
    "    print(\"Password length should be greater than 1\")\n",
    "    sys.exit(1)\n",
    "else:\n",
    "    characters=string.ascii_letters + string.digits + string.punctuation\n",
    "    password=''.join(random.choice(characters) for i in range(length))\n",
    "print(\"The generated password is: \", end=\"\")\n",
    "print(password)"
   ]
  },
  {
   "cell_type": "code",
   "execution_count": null,
   "id": "6c321173",
   "metadata": {},
   "outputs": [],
   "source": []
  }
 ],
 "metadata": {
  "kernelspec": {
   "display_name": "Python 3 (ipykernel)",
   "language": "python",
   "name": "python3"
  },
  "language_info": {
   "codemirror_mode": {
    "name": "ipython",
    "version": 3
   },
   "file_extension": ".py",
   "mimetype": "text/x-python",
   "name": "python",
   "nbconvert_exporter": "python",
   "pygments_lexer": "ipython3",
   "version": "3.11.5"
  }
 },
 "nbformat": 4,
 "nbformat_minor": 5
}
